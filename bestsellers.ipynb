{
 "cells": [
  {
   "cell_type": "code",
   "execution_count": 1,
   "metadata": {},
   "outputs": [],
   "source": [
    "import matplotlib.pyplot as plt\n",
    "import csv\n",
    "import numpy as np"
   ]
  },
  {
   "cell_type": "markdown",
   "metadata": {},
   "source": [
    "## Importing and setting up our data\n",
    "\n",
    "We start by bringing in the CSV data into Python program\n",
    "We then parse the data using the CSV package\n",
    "Lastly we close the csv file after we have read the information"
   ]
  },
  {
   "cell_type": "code",
   "execution_count": 6,
   "metadata": {},
   "outputs": [],
   "source": [
    "with open('data/bestsellers with categories.csv', 'r') as datafile:\n",
    "    bestsellers = csv.DictReader(datafile)\n",
    "    data_list = []\n",
    "    \n",
    "    for row in bestsellers:\n",
    "        data_list.append(row)"
   ]
  },
  {
   "cell_type": "code",
   "execution_count": 3,
   "metadata": {},
   "outputs": [
    {
     "data": {
      "text/plain": [
       "{'Name': '10-Day Green Smoothie Cleanse',\n",
       " 'Author': 'JJ Smith',\n",
       " 'User Rating': '4.7',\n",
       " 'Reviews': '17350',\n",
       " 'Price': '8',\n",
       " 'Year': '2016',\n",
       " 'Genre': 'Non Fiction'}"
      ]
     },
     "execution_count": 3,
     "metadata": {},
     "output_type": "execute_result"
    }
   ],
   "source": [
    "data_list[0]"
   ]
  },
  {
   "cell_type": "markdown",
   "metadata": {},
   "source": [
    "## Format the data before we generate a visualization\n",
    "\n",
    "Choose only the name, author, year, genre"
   ]
  },
  {
   "cell_type": "code",
   "execution_count": 4,
   "metadata": {},
   "outputs": [],
   "source": [
    "data = {}\n",
    "\n",
    "for item in data_list:\n",
    "    year = item['Year']\n",
    "    genre = item['Genre']\n",
    "    name = item['Name']\n",
    "    \n",
    "    if not data.get(item['Year']):\n",
    "        data[item['Year']] = {\n",
    "        \"fiction\": [],\n",
    "        \"nonFiction\": []\n",
    "        }\n",
    "    \n",
    "    if item['Genre'] == 'Fiction':\n",
    "        data[item['Year']]['fiction'].append(item['Name'])\n",
    "    else:\n",
    "        data[item['Year']]['nonFiction'].append(item['Name'])\n"
   ]
  },
  {
   "cell_type": "markdown",
   "metadata": {},
   "source": [
    "## Create the visualization\n",
    "\n",
    "Now that the data is parsed, we will use matplotlib to create a graph."
   ]
  },
  {
   "cell_type": "code",
   "execution_count": 7,
   "metadata": {},
   "outputs": [
    {
     "data": {
      "image/png": "[encoded data removed]",
      "text/plain": [
       "<Figure size 432x288 with 1 Axes>"
      ]
     },
     "metadata": {
      "needs_background": "light"
     },
     "output_type": "display_data"
    }
   ],
   "source": [
    "width = .35\n",
    "years = ['2009', '2010', '2011', '2012', '2013', '2014', '2015', '2016', '2017', '2018', '2019']\n",
    "fiction = []\n",
    "nonFiction = []\n",
    "x = np.arange(len(years))\n",
    "y = [0, 5, 10, 15, 20, 25, 30, 35, 40]\n",
    "yLabels = [0, 5, 10, 15, 20, 25, 30, 35, 40]\n",
    "\n",
    "for year in years:\n",
    "    fiction.append(len(data[year]['fiction']))\n",
    "    nonFiction.append(len(data[year]['nonFiction']))\n",
    "\n",
    "fig, ax = plt.subplots()\n",
    "rect1 = ax.bar(x - width/2, fiction, width, label='Fiction')\n",
    "rect2 = ax.bar(x + width/2, nonFiction, width, label='Non Fiction')\n",
    "\n",
    "ax.set_xlabel('Years')\n",
    "ax.set_ylabel('Number of books')\n",
    "ax.set_title('Best selling genres by year')\n",
    "ax.set_xticks(x)\n",
    "ax.set_xticklabels(years)\n",
    "ax.set_yticks(yLabels)\n",
    "ax.set_yticklabels(y)\n",
    "ax.legend()\n",
    "\n",
    "def autolabel(rects):\n",
    "    \"\"\"Attach a text label above each bar in *rects*, displaying its height.\"\"\"\n",
    "    for rect in rects:\n",
    "        height = rect.get_height()\n",
    "        ax.annotate('{}'.format(height),\n",
    "                    xy=(rect.get_x() + rect.get_width() / 2, height),\n",
    "                    xytext=(0, 3),  # 3 points vertical offset\n",
    "                    textcoords=\"offset points\",\n",
    "                    ha='center', va='bottom')\n",
    "autolabel(rect1)\n",
    "autolabel(rect2)\n",
    "fig.tight_layout()\n",
    "plt.show()\n"
   ]
  },
  {
   "cell_type": "code",
   "execution_count": null,
   "metadata": {},
   "outputs": [],
   "source": []
  }
 ],
 "metadata": {
  "kernelspec": {
   "display_name": "data_vis",
   "language": "python",
   "name": "data_vis"
  },
  "language_info": {
   "codemirror_mode": {
    "name": "ipython",
    "version": 3
   },
   "file_extension": ".py",
   "mimetype": "text/x-python",
   "name": "python",
   "nbconvert_exporter": "python",
   "pygments_lexer": "ipython3",
   "version": "3.9.1"
  }
 },
 "nbformat": 4,
 "nbformat_minor": 4
}
