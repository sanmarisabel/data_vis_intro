{
 "cells": [
  {
   "cell_type": "code",
   "execution_count": 1,
   "metadata": {},
   "outputs": [],
   "source": [
    "import matplotlib.pyplot as plt\n",
    "import csv\n",
    "import numpy as np"
   ]
  },
  {
   "cell_type": "markdown",
   "metadata": {},
   "source": [
    "## Importing and setting up our data\n",
    "We will start by bringing in CSV data into python program, parse the data using the CSV package, and close the CSV file after we have read the information. After we stored the data in data_list1 we printed the first index to check if the objects were stored correctly. "
   ]
  },
  {
   "cell_type": "code",
   "execution_count": 2,
   "metadata": {},
   "outputs": [],
   "source": [
    "with open('maternalMortalityRatio.csv', 'r') as datafile:\n",
    "    maternal = csv.DictReader(datafile)\n",
    "    data_list1 = []\n",
    "    \n",
    "    for row in maternal:\n",
    "        data_list1.append(row)\n",
    "        \n",
    "with open('birthAttendedBySkilledPersonal.csv', 'r') as datafile:\n",
    "    personal = csv.DictReader(datafile)\n",
    "    data_list2 = []\n",
    "    \n",
    "    for row in personal:\n",
    "        data_list2.append(row)"
   ]
  },
  {
   "cell_type": "code",
   "execution_count": 3,
   "metadata": {},
   "outputs": [
    {
     "data": {
      "text/plain": [
       "{'\\ufeffLocation': 'Afghanistan',\n",
       " 'Period': '2017',\n",
       " 'Indicator': 'Maternal mortality ratio (per 100 000 live births)',\n",
       " 'First Tooltip': '638 [427-1010]'}"
      ]
     },
     "execution_count": 3,
     "metadata": {},
     "output_type": "execute_result"
    }
   ],
   "source": [
    "data_list1[0]"
   ]
  },
  {
   "cell_type": "code",
   "execution_count": 4,
   "metadata": {},
   "outputs": [
    {
     "data": {
      "text/plain": [
       "{'\\ufeffLocation': 'Afghanistan',\n",
       " 'Period': '2018',\n",
       " 'Indicator': 'Births attended by skilled health personnel (%)',\n",
       " 'First Tooltip': '58.8'}"
      ]
     },
     "execution_count": 4,
     "metadata": {},
     "output_type": "execute_result"
    }
   ],
   "source": [
    "data_list2[0]"
   ]
  },
  {
   "cell_type": "markdown",
   "metadata": {},
   "source": [
    "## Format the data before we build a visualization\n",
    "First we compared the two data sets and stored the similar unique items based on location and year (2017) into a new list. Second we created a new list with the second set of data's first tooltip (maternal mortality ratio). Third we created a final list with the first set of data's first tooltip (percentages of births attended by skilled personal)."
   ]
  },
  {
   "cell_type": "code",
   "execution_count": 20,
   "metadata": {},
   "outputs": [],
   "source": [
    "data1 = []\n",
    "data2 = []\n",
    "data1Final = []\n",
    "\n",
    "for item1 in data_list1:\n",
    "    for item2 in data_list2:\n",
    "        if item1['\\ufeffLocation'] == item2['\\ufeffLocation']:\n",
    "            if item1['Period'] == '2017' and item2['Period'] == '2017':\n",
    "                if item1 not in data1:\n",
    "                    data1.append(item1)\n",
    "\n",
    "                percent = item2['First Tooltip']\n",
    "                data2.append(float(percent))\n",
    "                \n",
    "\n",
    "for item1 in data1:\n",
    "    ratio = item1['First Tooltip'].split( )[0]\n",
    "    data1Final.append(int(ratio))"
   ]
  },
  {
   "cell_type": "markdown",
   "metadata": {},
   "source": [
    "## Create the visualization \n",
    "Now that the data is parsed, we used matplotlib to create a scatter plot. Births attended by skilled personal are shown on the Y axis while the maternal mortality ratios are shown on the X axis. Overall the graph shows a negative trend. As births attended by skilled personal increases, maternal mortality ratios decrease with the exception of a view outliers. "
   ]
  },
  {
   "cell_type": "code",
   "execution_count": 19,
   "metadata": {},
   "outputs": [
    {
     "data": {
      "image/png": "[encoded data removed]",
      "text/plain": [
       "<Figure size 432x288 with 1 Axes>"
      ]
     },
     "metadata": {
      "needs_background": "light"
     },
     "output_type": "display_data"
    }
   ],
   "source": [
    "fig, ax = plt.subplots(sharex=False)\n",
    "\n",
    "ax.set_title('Maternal mortality ratio vs Birth attended by skilled personal')\n",
    "ax.set_xlabel('Maternal mortality ratio')\n",
    "ax.set_ylabel('Birth attended by skilled personal (%)')\n",
    "\n",
    "\n",
    "# TODO: Create x axis MONTHS list\n",
    "x = data1Final\n",
    "\n",
    "# TODO: Create y axis Cumulative list\n",
    "y = data2\n",
    "\n",
    "ax.scatter(x, y)\n",
    "plt.show()"
   ]
  },
  {
   "cell_type": "code",
   "execution_count": null,
   "metadata": {},
   "outputs": [],
   "source": []
  }
 ],
 "metadata": {
  "kernelspec": {
   "display_name": "data_vis",
   "language": "python",
   "name": "data_vis"
  },
  "language_info": {
   "codemirror_mode": {
    "name": "ipython",
    "version": 3
   },
   "file_extension": ".py",
   "mimetype": "text/x-python",
   "name": "python",
   "nbconvert_exporter": "python",
   "pygments_lexer": "ipython3",
   "version": "3.9.1"
  }
 },
 "nbformat": 4,
 "nbformat_minor": 4
}
